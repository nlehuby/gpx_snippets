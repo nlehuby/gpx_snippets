{
 "cells": [
  {
   "cell_type": "code",
   "execution_count": 1,
   "metadata": {},
   "outputs": [],
   "source": [
    "import gpxpy\n",
    "import geojson\n"
   ]
  },
  {
   "cell_type": "code",
   "execution_count": 2,
   "metadata": {},
   "outputs": [
    {
     "data": {
      "text/plain": [
       "15801.901312791804"
      ]
     },
     "execution_count": 2,
     "metadata": {},
     "output_type": "execute_result"
    }
   ],
   "source": [
    "gpx_file = open('abidjan/Gbaka___Gare_de_bassam_Gonzagville___A___ZB_2019_10_14_10_27_41.gpx', 'r')\n",
    "gpx = gpxpy.parse(gpx_file)\n",
    "gpx.length_2d()"
   ]
  },
  {
   "cell_type": "code",
   "execution_count": 3,
   "metadata": {},
   "outputs": [
    {
     "data": {
      "text/plain": [
       "[datetime.datetime(2019, 10, 14, 10, 45, 38, tzinfo=SimpleTZ(\"Z\")),\n",
       " datetime.datetime(2019, 10, 14, 11, 17, 34, tzinfo=SimpleTZ(\"Z\")),\n",
       " datetime.datetime(2019, 10, 14, 11, 18, 52, tzinfo=SimpleTZ(\"Z\")),\n",
       " datetime.datetime(2019, 10, 14, 11, 22, 46, tzinfo=SimpleTZ(\"Z\")),\n",
       " datetime.datetime(2019, 10, 14, 11, 26, 16, tzinfo=SimpleTZ(\"Z\")),\n",
       " datetime.datetime(2019, 10, 14, 11, 28, 6, tzinfo=SimpleTZ(\"Z\")),\n",
       " datetime.datetime(2019, 10, 14, 11, 29, 11, tzinfo=SimpleTZ(\"Z\")),\n",
       " datetime.datetime(2019, 10, 14, 11, 31, 31, tzinfo=SimpleTZ(\"Z\")),\n",
       " datetime.datetime(2019, 10, 14, 11, 32, 25, tzinfo=SimpleTZ(\"Z\"))]"
      ]
     },
     "execution_count": 3,
     "metadata": {},
     "output_type": "execute_result"
    }
   ],
   "source": [
    "pt_mesure_names = {\"vide\": 1, \"mi-plein\": 2, \"plein\": 3, \"surchargé\": 4}\n",
    "arrets = [elem for elem in gpx.waypoints if elem.name in pt_mesure_names.keys()]\n",
    "arrets_times = [elem.time for elem in arrets]\n",
    "arrets_times"
   ]
  },
  {
   "cell_type": "code",
   "execution_count": 4,
   "metadata": {},
   "outputs": [],
   "source": [
    "trajet = []\n",
    "for track in gpx.tracks:\n",
    "    entre_deux_arrets = []\n",
    "    for segment in track.segments:\n",
    "        for point in segment.points:\n",
    "            if point.time in arrets_times: #on coupe\n",
    "                geom_entre_deux_arrets = geojson.LineString(entre_deux_arrets)\n",
    "                remplissage_candidate = [elem.name for elem in arrets if elem.time == point.time]\n",
    "                remplissage = pt_mesure_names[remplissage_candidate[0]]\n",
    "                #print(remplissage)\n",
    "                geom_feature = geojson.Feature(geometry=geom_entre_deux_arrets, properties={\"remplissage\": remplissage}) \n",
    "                trajet.append(geom_feature)\n",
    "                \n",
    "                entre_deux_arrets = []\n",
    "            else :\n",
    "                entre_deux_arrets.append([point.longitude, point.latitude])\n",
    "            #print(point.latitude)\n",
    "\n",
    "#trajet"
   ]
  },
  {
   "cell_type": "code",
   "execution_count": 5,
   "metadata": {},
   "outputs": [],
   "source": [
    "feature_collection = geojson.FeatureCollection(trajet)\n",
    "\n",
    "with open('serpent_charge.geojson', 'w') as f:\n",
    "    geojson.dump(feature_collection, f)"
   ]
  }
 ],
 "metadata": {
  "kernelspec": {
   "display_name": "Python 3",
   "language": "python",
   "name": "python3"
  },
  "language_info": {
   "codemirror_mode": {
    "name": "ipython",
    "version": 3
   },
   "file_extension": ".py",
   "mimetype": "text/x-python",
   "name": "python",
   "nbconvert_exporter": "python",
   "pygments_lexer": "ipython3",
   "version": "3.6.8"
  }
 },
 "nbformat": 4,
 "nbformat_minor": 2
}
