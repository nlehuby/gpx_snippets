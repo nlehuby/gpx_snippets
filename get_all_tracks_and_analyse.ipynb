{
 "cells": [
  {
   "cell_type": "code",
   "execution_count": 1,
   "metadata": {},
   "outputs": [],
   "source": [
    "import gpxpy\n",
    "import csv\n",
    "import requests\n",
    "import os\n",
    "\n",
    "import gpx_tracks_to_osm_with_valhalla\n",
    "import collect_tracks_from_osm"
   ]
  },
  {
   "cell_type": "code",
   "execution_count": 7,
   "metadata": {},
   "outputs": [],
   "source": [
    "collect_tracks_from_osm.download_all_tracks_from_tag(\"abidjantransport\", \"abidjan/\")"
   ]
  },
  {
   "cell_type": "code",
   "execution_count": 14,
   "metadata": {},
   "outputs": [],
   "source": [
    "stop_waypoints = [\"abribus\", \"arrêt sans indication\",\"poteau\"]"
   ]
  },
  {
   "cell_type": "code",
   "execution_count": 16,
   "metadata": {},
   "outputs": [],
   "source": [
    "#path = \"../OSM_snippets/AccraMobile3/\"\n",
    "path = \"abidjan/\"\n",
    "dirs = os.listdir( path )\n",
    "\n",
    "result = []\n",
    "\n",
    "for filename in dirs:\n",
    "    if not filename.endswith(\".gpx\"):\n",
    "        continue\n",
    "    elem = {}\n",
    "    with open(path + filename, \"r\") as gpx_file:\n",
    "        gpx = gpxpy.parse(gpx_file)\n",
    "        elem[\"distance\"] = round(gpx.length_2d())\n",
    "        elem[\"duration\"] = round(gpx.get_duration()/60)\n",
    "        elem[\"average_speed\"] = round((gpx.length_2d() / 1000) / (gpx.get_duration() / 3600))\n",
    "        explode = filename.split('_')\n",
    "        elem[\"line\"] = explode[0]\n",
    "        elem[\"direction\"] = explode[1]\n",
    "        elem[\"gpx\"] = filename\n",
    "        \n",
    "        arrets = [elem for elem in gpx.waypoints if elem.name in stop_waypoints]\n",
    "        elem[\"stop_number\"] = len(arrets)\n",
    "        elem[\"other_meta_number\"] = len(gpx.waypoints) - len(arrets)\n",
    "        \n",
    "        #shape_txt = gpx_tracks_to_osm_with_valhalla.gpx_to_txt(gpx)\n",
    "        #tt = gpx_tracks_to_osm_with_valhalla.from_shape_to_way_list(shape_txt)\n",
    "\n",
    "        #if tt is not None:\n",
    "        #    elem[\"josm_link\"] = \"http://localhost:8111/load_object?objects=\"\n",
    "        #    elem[\"josm_link\"] += ','.join(tt)\n",
    "         \n",
    "    result.append(elem)\n",
    "\n",
    "headers = [\"gpx\", \"line\", \"direction\", \"duration\", \"distance\", \"average_speed\", \"stop_number\" ,\"other_meta_number\", \"josm_link\"]\n",
    "with open(\"analyse_gpx.csv\", 'w') as myfile:\n",
    "    wr = csv.DictWriter(myfile, quoting=csv.QUOTE_ALL, fieldnames = headers)\n",
    "    wr.writeheader()\n",
    "    for a_row in result :\n",
    "        wr.writerow(a_row)"
   ]
  },
  {
   "cell_type": "code",
   "execution_count": 17,
   "metadata": {},
   "outputs": [
    {
     "data": {
      "text/plain": [
       "[{'distance': 17592,\n",
       "  'duration': 61,\n",
       "  'average_speed': 17,\n",
       "  'line': 'monbus15',\n",
       "  'direction': 'B',\n",
       "  'gpx': 'monbus15_B_2019_05_12_14_08_23_Plateau_Abobo.gpx',\n",
       "  'stop_number': 25,\n",
       "  'other_meta_number': 26},\n",
       " {'distance': 17354,\n",
       "  'duration': 68,\n",
       "  'average_speed': 15,\n",
       "  'line': 'monbus15',\n",
       "  'direction': 'A',\n",
       "  'gpx': 'monbus15_A_2019_05_12_12_44_31_Abobo_Plateau.gpx',\n",
       "  'stop_number': 26,\n",
       "  'other_meta_number': 13}]"
      ]
     },
     "execution_count": 17,
     "metadata": {},
     "output_type": "execute_result"
    }
   ],
   "source": [
    "result"
   ]
  }
 ],
 "metadata": {
  "kernelspec": {
   "display_name": "Python 3",
   "language": "python",
   "name": "python3"
  },
  "language_info": {
   "codemirror_mode": {
    "name": "ipython",
    "version": 3
   },
   "file_extension": ".py",
   "mimetype": "text/x-python",
   "name": "python",
   "nbconvert_exporter": "python",
   "pygments_lexer": "ipython3",
   "version": "3.6.8"
  }
 },
 "nbformat": 4,
 "nbformat_minor": 2
}
