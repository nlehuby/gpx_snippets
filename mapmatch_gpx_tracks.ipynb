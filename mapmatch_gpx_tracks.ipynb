{
 "cells": [
  {
   "cell_type": "code",
   "execution_count": 3,
   "metadata": {},
   "outputs": [],
   "source": [
    "import os\n",
    "import requests\n",
    "import gpxpy\n",
    "\n",
    "default_trace_route_url = \"https://valhalla.mapzen.com/trace_route?api_key=mapzen-jLrDBSP&\"\n",
    "default_trace_attributes_url = \"https://valhalla.mapzen.com/trace_attributes?api_key=mapzen-jLrDBSP&\"\n",
    "\n",
    "trace_route_url = os.getenv('valhalla_trace_route_url', default_trace_route_url)\n",
    "trace_attributes_url = os.getenv('valhalla_trace_attributes_url', default_trace_route_url)"
   ]
  },
  {
   "cell_type": "code",
   "execution_count": 4,
   "metadata": {
    "collapsed": true
   },
   "outputs": [],
   "source": [
    "gpx_shape = []\n",
    "\n",
    "with open(\"./Lien vers 2017-10-31_20-06-03.gpx\", \"r\") as gpx_file:\n",
    "    #parse gpx for mapzen\n",
    "    gpx = gpxpy.parse(gpx_file)\n",
    "\n",
    "    for track in gpx.tracks:\n",
    "        for segment in track.segments:\n",
    "            for point in segment.points:\n",
    "                coord = {}\n",
    "                coord[\"lon\"] = point.longitude\n",
    "                coord[\"lat\"] = point.latitude\n",
    "                gpx_shape.append(coord)\n",
    "                "
   ]
  },
  {
   "cell_type": "code",
   "execution_count": 5,
   "metadata": {
    "collapsed": true
   },
   "outputs": [],
   "source": [
    "#étape 1 : on passe dans trace_attributes             \n",
    "\n",
    "shape_txt = str(gpx_shape)\n",
    "shape_txt = shape_txt.replace(\"'\",\"\\\"\")\n",
    "data = '{\"shape\":'+ shape_txt +',\"costing\":\"auto\",\"directions_options\":{\"units\":\"miles\"},\"shape_match\":\"map_snap\"}' \n",
    "ta1 = requests.post(trace_attributes_url,  data = data)\n",
    "\n",
    "output_polyline = ta1.json()['shape']"
   ]
  },
  {
   "cell_type": "code",
   "execution_count": 6,
   "metadata": {
    "collapsed": true
   },
   "outputs": [],
   "source": [
    "#six degrees of precision in valhalla\n",
    "inv = 1.0 / 1e6;\n",
    "\n",
    "#decode an encoded string\n",
    "def decode(encoded):\n",
    "  decoded = []\n",
    "  previous = [0,0]\n",
    "  i = 0\n",
    "  #for each byte\n",
    "  while i < len(encoded):\n",
    "    #for each coord (lat, lon)\n",
    "    ll = [0,0]\n",
    "    for j in [0, 1]:\n",
    "      shift = 0\n",
    "      byte = 0x20\n",
    "      #keep decoding bytes until you have this coord\n",
    "      while byte >= 0x20:\n",
    "        byte = ord(encoded[i]) - 63\n",
    "        i += 1\n",
    "        ll[j] |= (byte & 0x1f) << shift\n",
    "        shift += 5\n",
    "      #get the final value adding the previous offset and remember it for the next\n",
    "      ll[j] = previous[j] + (~(ll[j] >> 1) if ll[j] & 1 else (ll[j] >> 1))\n",
    "      previous[j] = ll[j]\n",
    "    #scale by the precision and chop off long coords also flip the positions so\n",
    "    #its the far more standard lon,lat instead of lat,lon\n",
    "    #decoded.append([float('%.6f' % (ll[1] * inv)), float('%.6f' % (ll[0] * inv))])\n",
    "    decoded.append({'lon': float('%.6f' % (ll[1] * inv)), 'lat': float('%.6f' % (ll[0] * inv))})\n",
    "  #hand back the list of coordinates\n",
    "  return decoded\n",
    "\n",
    "\n"
   ]
  },
  {
   "cell_type": "code",
   "execution_count": 7,
   "metadata": {
    "collapsed": true
   },
   "outputs": [],
   "source": [
    "#étape 2: on passe dans trace_route\n",
    "\n",
    "shape_2_txt = str(decode(output_polyline))\n",
    "shape_2_txt = shape_2_txt.replace(\"'\",\"\\\"\")\n",
    "trace_route_data = '{\"shape\":'+ shape_2_txt +',\"costing\":\"auto\",\"directions_options\":{\"units\":\"miles\"},\"shape_match\":\"map_snap\"}' \n",
    "\n",
    "tr = requests.post(trace_route_url,  data = trace_route_data)\n",
    "output_polyline2 = tr.json()['trip']['legs'][0]['shape']\n",
    "\n",
    "#output_polyline2"
   ]
  },
  {
   "cell_type": "code",
   "execution_count": 8,
   "metadata": {
    "collapsed": true
   },
   "outputs": [],
   "source": [
    "#étape 3: on repasse dans trace_attribute\n",
    "\n",
    "shape_3_txt = str(decode(output_polyline2))\n",
    "shape_3_txt = shape_3_txt.replace(\"'\",\"\\\"\")\n",
    "trace_attributes_data = '{\"shape\":'+ shape_3_txt +',\"costing\":\"auto\",\"directions_options\":{\"units\":\"miles\"},\"shape_match\":\"map_snap\"}' \n",
    "\n",
    "ta = requests.post(trace_attributes_url,  data = trace_attributes_data)\n",
    "#ta.json()"
   ]
  },
  {
   "cell_type": "code",
   "execution_count": 9,
   "metadata": {
    "scrolled": true
   },
   "outputs": [
    {
     "data": {
      "text/plain": [
       "'http://localhost:8111/load_object?objects=w188698755,w229874341,w166990132,w166990132,w166990132,w114314130,w24476110,w24516772,w229694404,w229694391,w24516772,w22973532,w22973532,w22973532,w22973532,w22973532,w22973525,w22973525,w22973525,w22973525,w22973525,w22973525,w22973525,w22973525,w22973525,w22973525,w22973525,w266588351,w266588351,w266588351,w130009296,w40127559,w24520469,w24520469,w24520469,w24519822,w601138191,w60741307,w171562597,w171562599,w171562595,w24519688,w249018782,w249018790,w249018790,w249018790,w249018790,w249018784,w249018784,w249018784,w249018784,w614595043,w614595043,w614595043,w614595043,w614595043,w614595043,w259088530,w249018785,w614595043,w249018793,w264562897,w613159787,w259088549,w259088549,w188698743,w188698743,w188698743,w26114254,w26114254,w26071235,w26071235,w538570630,w538570630,w538570630,w22869590,w188698750,w139758897,w139758897,w22869581,w22869583,w22869583,w22869583,w22869583,w25739838,w25739838,w191550001,w191550001,w26055333,w26055333,w26055333,w370399446,w370399446,w370399446,w517460926,w538566504,w370399448,w370399448,w370399447,w116316307,w116316307,w498906671,w498906671,w498906671,w37216697,w37216697,w37216697,w37216689,w60749766,w60749766,w60749766,w517460921,w517460923,w537251345,w42408136,w42408136,w42408136,w42408129,w42408129,w42408129,w27625862,w27625862,w329053823,w190940856,w190940856,w27625881,w27625881,w27626026,w361231947,w27281531,w361230407,w539034050,w27281459,w537251344,w517403487,w517403485,w27619695,w290667455,w517403485,w23823125,w117784283,w117784279,w432913105,w37390822,w37390822,w231861588,w231861595,w231861605,w231861572,w231861602,w231861602,w231861599,w231861599,w231861602,w231861567,w231861567,w231861567,w231861567,w231861567'"
      ]
     },
     "execution_count": 9,
     "metadata": {},
     "output_type": "execute_result"
    }
   ],
   "source": [
    "osm_way_list=[]\n",
    "for a_way in ta.json()['edges']:\n",
    "    osm_way_list.append('w' + str(a_way['way_id']))\n",
    "\n",
    "#osm_way_list\n",
    "\n",
    "josm_link = \"http://localhost:8111/load_object?objects=\"\n",
    "josm_link += ','.join(osm_way_list)\n",
    "josm_link\n"
   ]
  }
 ],
 "metadata": {
  "kernelspec": {
   "display_name": "Python 3",
   "language": "python",
   "name": "python3"
  },
  "language_info": {
   "codemirror_mode": {
    "name": "ipython",
    "version": 3
   },
   "file_extension": ".py",
   "mimetype": "text/x-python",
   "name": "python",
   "nbconvert_exporter": "python",
   "pygments_lexer": "ipython3",
   "version": "3.5.2"
  }
 },
 "nbformat": 4,
 "nbformat_minor": 2
}
