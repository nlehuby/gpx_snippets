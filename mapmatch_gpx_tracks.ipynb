{
 "cells": [
  {
   "cell_type": "code",
   "execution_count": 1,
   "metadata": {
    "collapsed": true
   },
   "outputs": [],
   "source": [
    "import requests\n",
    "import gpxpy\n",
    "\n",
    "\n",
    "trace_route_url = \"https://valhalla.mapzen.com/trace_route?api_key=mapzen-jLrDBSP&\"\n",
    "trace_attributes_url = \"https://valhalla.mapzen.com/trace_attributes?api_key=mapzen-jLrDBSP&\"\n",
    "\n",
    "gpx_shape = []\n",
    "\n",
    "with open(\"./192_B_AP_2017_07_19_03_44_08.gpx\", \"r\") as gpx_file:\n",
    "    #parse gpx for mapzen\n",
    "    gpx = gpxpy.parse(gpx_file)\n",
    "\n",
    "    for track in gpx.tracks:\n",
    "        for segment in track.segments:\n",
    "            for point in segment.points:\n",
    "                coord = {}\n",
    "                coord[\"lon\"] = point.longitude\n",
    "                coord[\"lat\"] = point.latitude\n",
    "                gpx_shape.append(coord)\n",
    "                "
   ]
  },
  {
   "cell_type": "code",
   "execution_count": 2,
   "metadata": {
    "collapsed": true
   },
   "outputs": [],
   "source": [
    "#étape 1 : on passe dans trace_attributes             \n",
    "\n",
    "shape_txt = str(gpx_shape)\n",
    "shape_txt = shape_txt.replace(\"'\",\"\\\"\")\n",
    "data = '{\"shape\":'+ shape_txt +',\"costing\":\"auto\",\"directions_options\":{\"units\":\"miles\"},\"shape_match\":\"map_snap\"}' \n",
    "ta1 = requests.post(trace_attributes_url,  data = data)\n",
    "\n",
    "output_polyline = ta1.json()['shape']"
   ]
  },
  {
   "cell_type": "code",
   "execution_count": 3,
   "metadata": {
    "collapsed": true
   },
   "outputs": [],
   "source": [
    "#six degrees of precision in valhalla\n",
    "inv = 1.0 / 1e6;\n",
    "\n",
    "#decode an encoded string\n",
    "def decode(encoded):\n",
    "  decoded = []\n",
    "  previous = [0,0]\n",
    "  i = 0\n",
    "  #for each byte\n",
    "  while i < len(encoded):\n",
    "    #for each coord (lat, lon)\n",
    "    ll = [0,0]\n",
    "    for j in [0, 1]:\n",
    "      shift = 0\n",
    "      byte = 0x20\n",
    "      #keep decoding bytes until you have this coord\n",
    "      while byte >= 0x20:\n",
    "        byte = ord(encoded[i]) - 63\n",
    "        i += 1\n",
    "        ll[j] |= (byte & 0x1f) << shift\n",
    "        shift += 5\n",
    "      #get the final value adding the previous offset and remember it for the next\n",
    "      ll[j] = previous[j] + (~(ll[j] >> 1) if ll[j] & 1 else (ll[j] >> 1))\n",
    "      previous[j] = ll[j]\n",
    "    #scale by the precision and chop off long coords also flip the positions so\n",
    "    #its the far more standard lon,lat instead of lat,lon\n",
    "    #decoded.append([float('%.6f' % (ll[1] * inv)), float('%.6f' % (ll[0] * inv))])\n",
    "    decoded.append({'lon': float('%.6f' % (ll[1] * inv)), 'lat': float('%.6f' % (ll[0] * inv))})\n",
    "  #hand back the list of coordinates\n",
    "  return decoded\n",
    "\n",
    "\n"
   ]
  },
  {
   "cell_type": "code",
   "execution_count": 4,
   "metadata": {},
   "outputs": [],
   "source": [
    "#étape 2: on passe dans trace_route\n",
    "\n",
    "shape_2_txt = str(decode(output_polyline))\n",
    "shape_2_txt = shape_2_txt.replace(\"'\",\"\\\"\")\n",
    "trace_route_data = '{\"shape\":'+ shape_2_txt +',\"costing\":\"auto\",\"directions_options\":{\"units\":\"miles\"},\"shape_match\":\"map_snap\"}' \n",
    "\n",
    "tr = requests.post(trace_route_url,  data = trace_route_data)\n",
    "output_polyline2 = tr.json()['trip']['legs'][0]['shape']\n",
    "\n",
    "#output_polyline2"
   ]
  },
  {
   "cell_type": "code",
   "execution_count": 5,
   "metadata": {},
   "outputs": [],
   "source": [
    "#étape 3: on repasse dans trace_attribute\n",
    "\n",
    "shape_3_txt = str(decode(output_polyline2))\n",
    "shape_3_txt = shape_3_txt.replace(\"'\",\"\\\"\")\n",
    "trace_attributes_data = '{\"shape\":'+ shape_3_txt +',\"costing\":\"auto\",\"directions_options\":{\"units\":\"miles\"},\"shape_match\":\"map_snap\"}' \n",
    "\n",
    "ta = requests.post(trace_attributes_url,  data = trace_attributes_data)\n",
    "#ta.json()\n"
   ]
  },
  {
   "cell_type": "code",
   "execution_count": 6,
   "metadata": {},
   "outputs": [
    {
     "data": {
      "text/plain": [
       "'way(43584844);(._;>;);out meta;  way(24385695);(._;>;);out meta;  way(24385695);(._;>;);out meta;  way(24385710);(._;>;);out meta;  way(24385710);(._;>;);out meta;  way(43626025);(._;>;);out meta;  way(43626025);(._;>;);out meta;  way(43626025);(._;>;);out meta;  way(43626025);(._;>;);out meta;  way(43626025);(._;>;);out meta;  way(210561293);(._;>;);out meta;  way(43626051);(._;>;);out meta;  way(307289972);(._;>;);out meta;  way(307289961);(._;>;);out meta;  way(307289960);(._;>;);out meta;  way(307289962);(._;>;);out meta;  way(307289962);(._;>;);out meta;  way(307289962);(._;>;);out meta;  way(210561290);(._;>;);out meta;  way(29660529);(._;>;);out meta;  way(29660529);(._;>;);out meta;  way(29660529);(._;>;);out meta;  way(308467362);(._;>;);out meta;  way(308467362);(._;>;);out meta;  way(308467362);(._;>;);out meta;  way(308467362);(._;>;);out meta;  way(308467362);(._;>;);out meta;  way(29970723);(._;>;);out meta;  way(29970723);(._;>;);out meta;  way(29970723);(._;>;);out meta;  way(29970723);(._;>;);out meta;  way(29660459);(._;>;);out meta;  way(29660459);(._;>;);out meta;  way(29660459);(._;>;);out meta;  way(510554259);(._;>;);out meta;  way(510554260);(._;>;);out meta;  way(510554260);(._;>;);out meta;  way(510554260);(._;>;);out meta;  way(13871691);(._;>;);out meta;  way(13871691);(._;>;);out meta;  way(13871703);(._;>;);out meta;  way(13871703);(._;>;);out meta;  way(13871703);(._;>;);out meta;  way(510239272);(._;>;);out meta;  way(128728215);(._;>;);out meta;  way(128728215);(._;>;);out meta;  way(128728215);(._;>;);out meta;  way(128728216);(._;>;);out meta;  way(13871729);(._;>;);out meta;  way(13871729);(._;>;);out meta;  way(478139117);(._;>;);out meta;  way(510832956);(._;>;);out meta;  way(510832952);(._;>;);out meta;  way(510224905);(._;>;);out meta;  way(510224905);(._;>;);out meta;  way(510224905);(._;>;);out meta;  way(509869717);(._;>;);out meta;  way(509869717);(._;>;);out meta;  way(510224904);(._;>;);out meta;  way(510224904);(._;>;);out meta;  way(11666590);(._;>;);out meta; '"
      ]
     },
     "execution_count": 6,
     "metadata": {},
     "output_type": "execute_result"
    }
   ],
   "source": [
    "osm_way_list=[]\n",
    "for a_way in ta.json()['edges']:\n",
    "    osm_way_list.append(a_way['way_id'])\n",
    "\n",
    "osm_way_list\n",
    "\n",
    "#fabrication de la requête overpass\n",
    "overpass_query_list = ['way('+str(id)+');(._;>;);out meta; ' for id in osm_way_list]\n",
    "\n",
    "' '.join(overpass_query_list)\n",
    "\n",
    "#print(len(osm_way_list))"
   ]
  },
  {
   "cell_type": "markdown",
   "metadata": {},
   "source": [
    "Même avec plusieurs passes, le résultat est incomplet u_u"
   ]
  }
 ],
 "metadata": {
  "kernelspec": {
   "display_name": "Python 3",
   "language": "python",
   "name": "python3"
  },
  "language_info": {
   "codemirror_mode": {
    "name": "ipython",
    "version": 3
   },
   "file_extension": ".py",
   "mimetype": "text/x-python",
   "name": "python",
   "nbconvert_exporter": "python",
   "pygments_lexer": "ipython3",
   "version": "3.5.2"
  }
 },
 "nbformat": 4,
 "nbformat_minor": 2
}
