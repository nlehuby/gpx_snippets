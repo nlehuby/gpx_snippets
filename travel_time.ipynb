{
 "cells": [
  {
   "cell_type": "code",
   "execution_count": 1,
   "metadata": {
    "collapsed": true
   },
   "outputs": [],
   "source": [
    "import gpxpy\n",
    "import datetime\n",
    "import dateutil.parser as dateutil\n",
    "import os\n",
    "import csv"
   ]
  },
  {
   "cell_type": "markdown",
   "metadata": {},
   "source": [
    "# Fonction pour calculer la durée de trajet "
   ]
  },
  {
   "cell_type": "code",
   "execution_count": 19,
   "metadata": {
    "collapsed": true
   },
   "outputs": [],
   "source": [
    "def compute_travel_time_from_gpx_file(file_name):\n",
    "    with open(file_name, \"r\") as gpx_file:\n",
    "        gpx = gpxpy.parse(gpx_file)\n",
    "\n",
    "        times = []\n",
    "        for track in gpx.tracks:\n",
    "            for segment in track.segments:\n",
    "                for point in segment.points:\n",
    "                    times.append(point.time)\n",
    "\n",
    "    print (file_name)\n",
    "    first_time = min(times)\n",
    "    last_time = max(times)\n",
    "    travel_time = last_time - first_time\n",
    "    travel_time_in_minutes = round(travel_time.seconds / 60.0)\n",
    "\n",
    "    return (travel_time_in_minutes)\n",
    "\n",
    "def compute_travel_time_with_stops(file_name):\n",
    "    with open(file_name, \"r\") as gpx_file:\n",
    "        gpx = gpxpy.parse(gpx_file)\n",
    "\n",
    "        times = []\n",
    "        for wpt in gpx.waypoints:\n",
    "            times.append(wpt.time)\n",
    "\n",
    "\n",
    "    first_time = min(times)\n",
    "    last_time = max(times)\n",
    "    travel_time = last_time - first_time\n",
    "    travel_time_in_minutes = round(travel_time.seconds / 60.0)\n",
    "    travel_time_in_minutes = round(travel_time_in_minutes/10)*10\n",
    "\n",
    "    return (travel_time_in_minutes)\n",
    "\n"
   ]
  },
  {
   "cell_type": "code",
   "execution_count": 23,
   "metadata": {},
   "outputs": [
    {
     "name": "stdout",
     "output_type": "stream",
     "text": [
      "17365.396309491905\n",
      "68\n",
      "-----\n",
      "Moving time: 2817.0 (46.95min)\n",
      "Stopped time: 1287.0 (21.45min)\n",
      "Moving distance: 17363.38868025017\n",
      "Stopped distance: 2.00762924173519\n",
      "Max speed: 11.371123375651731m/s\n",
      "-----\n"
     ]
    }
   ],
   "source": [
    "with open(\"./Lien vers 2019-05-12_12-44-31_Abobo_Plateau.gpx\", \"r\") as gpx_file:\n",
    "        gpx = gpxpy.parse(gpx_file)\n",
    "        print(gpx.length_3d())\n",
    "        print(round(gpx.get_duration()/60))\n",
    "        \n",
    "moving_time, stopped_time, moving_distance, stopped_distance, max_speed = gpx.get_moving_data(stopped_speed_threshold=0.1)\n",
    "print('-----')\n",
    "print('Moving time: %s (%smin)' % (moving_time, moving_time / 60.))\n",
    "print('Stopped time: %s (%smin)' % (stopped_time, stopped_time / 60.))\n",
    "print('Moving distance: %s' % moving_distance)\n",
    "print('Stopped distance: %s' % stopped_distance)\n",
    "print('Max speed: %sm/s' % max_speed)\n",
    "print('-----')"
   ]
  },
  {
   "cell_type": "code",
   "execution_count": 20,
   "metadata": {},
   "outputs": [
    {
     "name": "stdout",
     "output_type": "stream",
     "text": [
      "./Lien vers 2019-05-12_12-44-31_Abobo_Plateau.gpx\n"
     ]
    },
    {
     "data": {
      "text/plain": [
       "68"
      ]
     },
     "execution_count": 20,
     "metadata": {},
     "output_type": "execute_result"
    }
   ],
   "source": [
    "compute_travel_time_from_gpx_file(\"./Lien vers 2019-05-12_12-44-31_Abobo_Plateau.gpx\")"
   ]
  },
  {
   "cell_type": "code",
   "execution_count": 4,
   "metadata": {},
   "outputs": [
    {
     "name": "stdout",
     "output_type": "stream",
     "text": [
      "../OSM_snippets/AccraMobile3/003_A_AP_2017_08_01_09_55_25.gpx\n"
     ]
    },
    {
     "data": {
      "text/plain": [
       "30"
      ]
     },
     "execution_count": 4,
     "metadata": {},
     "output_type": "execute_result"
    }
   ],
   "source": [
    "compute_travel_time_from_gpx_file(\"../OSM_snippets/AccraMobile3/003_A_AP_2017_08_01_09_55_25.gpx\")"
   ]
  },
  {
   "cell_type": "code",
   "execution_count": 5,
   "metadata": {
    "collapsed": true
   },
   "outputs": [],
   "source": [
    "path = \"../OSM_snippets/AccraMobile3/\"\n",
    "#path = './'\n",
    "dirs = os.listdir( path )\n",
    "\n",
    "result = []\n",
    "\n",
    "for filename in dirs:\n",
    "    if not filename.endswith(\".gpx\"):\n",
    "        continue\n",
    "    explode = filename.split('_')\n",
    "    travel_time = compute_travel_time_with_stops(path + filename)\n",
    "    result.append([filename, explode[0], explode[1], travel_time])\n",
    "\n",
    "with open(\"output.csv\", 'w') as myfile:\n",
    "    wr = csv.writer(myfile, quoting=csv.QUOTE_ALL)\n",
    "    wr.writerow([\"gpx\", \"line\", \"direction\", \"travel_time\"])\n",
    "    for a_row in result :\n",
    "        wr.writerow(a_row)"
   ]
  }
 ],
 "metadata": {
  "kernelspec": {
   "display_name": "Python 3",
   "language": "python",
   "name": "python3"
  },
  "language_info": {
   "codemirror_mode": {
    "name": "ipython",
    "version": 3
   },
   "file_extension": ".py",
   "mimetype": "text/x-python",
   "name": "python",
   "nbconvert_exporter": "python",
   "pygments_lexer": "ipython3",
   "version": "3.5.2"
  }
 },
 "nbformat": 4,
 "nbformat_minor": 2
}
