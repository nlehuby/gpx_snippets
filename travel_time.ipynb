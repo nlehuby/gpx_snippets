{
 "cells": [
  {
   "cell_type": "code",
   "execution_count": 1,
   "metadata": {
    "collapsed": true
   },
   "outputs": [],
   "source": [
    "import gpxpy\n",
    "import datetime\n",
    "import dateutil.parser as dateutil\n",
    "import os\n",
    "import csv"
   ]
  },
  {
   "cell_type": "markdown",
   "metadata": {},
   "source": [
    "# Fonction pour calculer la durée de trajet "
   ]
  },
  {
   "cell_type": "code",
   "execution_count": 23,
   "metadata": {},
   "outputs": [
    {
     "data": {
      "text/plain": [
       "60"
      ]
     },
     "execution_count": 23,
     "metadata": {},
     "output_type": "execute_result"
    }
   ],
   "source": [
    "def compute_travel_time_from_gpx_file(file_name):\n",
    "    with open(file_name, \"r\") as gpx_file:\n",
    "        gpx = gpxpy.parse(gpx_file)\n",
    "\n",
    "        times = []\n",
    "        for track in gpx.tracks:\n",
    "            for segment in track.segments:\n",
    "                for point in segment.points:\n",
    "                    times.append(point.time)\n",
    "\n",
    "    print (file_name)\n",
    "    first_time = min(times)\n",
    "    last_time = max(times)\n",
    "    travel_time = last_time - first_time\n",
    "    travel_time_in_minutes = round(travel_time.seconds / 60.0)\n",
    "\n",
    "    return (travel_time_in_minutes)\n",
    "\n",
    "def compute_travel_time_with_stops(file_name):\n",
    "    with open(file_name, \"r\") as gpx_file:\n",
    "        gpx = gpxpy.parse(gpx_file)\n",
    "\n",
    "        times = []\n",
    "        for wpt in gpx.waypoints:\n",
    "            times.append(wpt.time)\n",
    "\n",
    "\n",
    "    first_time = min(times)\n",
    "    last_time = max(times)\n",
    "    travel_time = last_time - first_time\n",
    "    travel_time_in_minutes = round(travel_time.seconds / 60.0)\n",
    "    travel_time_in_minutes = round(travel_time_in_minutes/10)*10\n",
    "\n",
    "    return (travel_time_in_minutes)\n",
    "\n"
   ]
  },
  {
   "cell_type": "code",
   "execution_count": 3,
   "metadata": {},
   "outputs": [
    {
     "data": {
      "text/plain": [
       "57"
      ]
     },
     "execution_count": 3,
     "metadata": {},
     "output_type": "execute_result"
    }
   ],
   "source": [
    "compute_travel_time_from_gpx_file(\"./192_B_AP_2017_07_19_03_44_08.gpx\")"
   ]
  },
  {
   "cell_type": "code",
   "execution_count": 8,
   "metadata": {},
   "outputs": [
    {
     "name": "stdout",
     "output_type": "stream",
     "text": [
      "../OSM_snippets/AccraMobile3/164_B_EA_2017_08_03_13_25_34.gpx\n"
     ]
    },
    {
     "ename": "ValueError",
     "evalue": "min() arg is an empty sequence",
     "output_type": "error",
     "traceback": [
      "\u001b[0;31m---------------------------------------------------------------------------\u001b[0m",
      "\u001b[0;31mValueError\u001b[0m                                Traceback (most recent call last)",
      "\u001b[0;32m<ipython-input-8-8268fa4008e3>\u001b[0m in \u001b[0;36m<module>\u001b[0;34m()\u001b[0m\n\u001b[0;32m----> 1\u001b[0;31m \u001b[0mcompute_travel_time_from_gpx_file\u001b[0m\u001b[0;34m(\u001b[0m\u001b[0;34m\"../OSM_snippets/AccraMobile3/164_B_EA_2017_08_03_13_25_34.gpx\"\u001b[0m\u001b[0;34m)\u001b[0m\u001b[0;34m\u001b[0m\u001b[0m\n\u001b[0m",
      "\u001b[0;32m<ipython-input-6-662433f71f97>\u001b[0m in \u001b[0;36mcompute_travel_time_from_gpx_file\u001b[0;34m(file_name)\u001b[0m\n\u001b[1;32m     10\u001b[0m \u001b[0;34m\u001b[0m\u001b[0m\n\u001b[1;32m     11\u001b[0m     \u001b[0mprint\u001b[0m \u001b[0;34m(\u001b[0m\u001b[0mfile_name\u001b[0m\u001b[0;34m)\u001b[0m\u001b[0;34m\u001b[0m\u001b[0m\n\u001b[0;32m---> 12\u001b[0;31m     \u001b[0mfirst_time\u001b[0m \u001b[0;34m=\u001b[0m \u001b[0mmin\u001b[0m\u001b[0;34m(\u001b[0m\u001b[0mtimes\u001b[0m\u001b[0;34m)\u001b[0m\u001b[0;34m\u001b[0m\u001b[0m\n\u001b[0m\u001b[1;32m     13\u001b[0m     \u001b[0mlast_time\u001b[0m \u001b[0;34m=\u001b[0m \u001b[0mmax\u001b[0m\u001b[0;34m(\u001b[0m\u001b[0mtimes\u001b[0m\u001b[0;34m)\u001b[0m\u001b[0;34m\u001b[0m\u001b[0m\n\u001b[1;32m     14\u001b[0m     \u001b[0mtravel_time\u001b[0m \u001b[0;34m=\u001b[0m \u001b[0mlast_time\u001b[0m \u001b[0;34m-\u001b[0m \u001b[0mfirst_time\u001b[0m\u001b[0;34m\u001b[0m\u001b[0m\n",
      "\u001b[0;31mValueError\u001b[0m: min() arg is an empty sequence"
     ]
    }
   ],
   "source": [
    "compute_travel_time_from_gpx_file(\"../OSM_snippets/AccraMobile3/003_A_AP_2017_08_01_09_55_25.gpx\")"
   ]
  },
  {
   "cell_type": "code",
   "execution_count": 24,
   "metadata": {},
   "outputs": [],
   "source": [
    "path = \"../OSM_snippets/AccraMobile3/\"\n",
    "#path = './'\n",
    "dirs = os.listdir( path )\n",
    "\n",
    "result = []\n",
    "\n",
    "for filename in dirs:\n",
    "    if not filename.endswith(\".gpx\"):\n",
    "        continue\n",
    "    explode = filename.split('_')\n",
    "    travel_time = compute_travel_time_with_stops(path + filename)\n",
    "    result.append([filename, explode[0], explode[1], travel_time])\n",
    "\n",
    "with open(\"output.csv\", 'w') as myfile:\n",
    "    wr = csv.writer(myfile, quoting=csv.QUOTE_ALL)\n",
    "    wr.writerow([\"gpx\", \"line\", \"direction\", \"travel_time\"])\n",
    "    for a_row in result :\n",
    "        wr.writerow(a_row)"
   ]
  }
 ],
 "metadata": {
  "kernelspec": {
   "display_name": "Python 3",
   "language": "python",
   "name": "python3"
  },
  "language_info": {
   "codemirror_mode": {
    "name": "ipython",
    "version": 3
   },
   "file_extension": ".py",
   "mimetype": "text/x-python",
   "name": "python",
   "nbconvert_exporter": "python",
   "pygments_lexer": "ipython3",
   "version": "3.5.2"
  }
 },
 "nbformat": 4,
 "nbformat_minor": 2
}
