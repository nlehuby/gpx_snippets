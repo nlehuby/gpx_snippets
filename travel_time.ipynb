{
 "cells": [
  {
   "cell_type": "code",
   "execution_count": 32,
   "metadata": {},
   "outputs": [],
   "source": [
    "import gpxpy\n",
    "import datetime\n",
    "import dateutil.parser as dateutil"
   ]
  },
  {
   "cell_type": "markdown",
   "metadata": {},
   "source": [
    "# Fonction pour calculer la durée de trajet "
   ]
  },
  {
   "cell_type": "code",
   "execution_count": 34,
   "metadata": {},
   "outputs": [],
   "source": [
    "def compute_travel_time_from_gpx_file(file_name):\n",
    "    with open(file_name, \"r\") as gpx_file:\n",
    "        gpx = gpxpy.parse(gpx_file)\n",
    "\n",
    "        times = []\n",
    "        for track in gpx.tracks:\n",
    "            for segment in track.segments:\n",
    "                for point in segment.points:\n",
    "                    times.append(point.time)\n",
    "\n",
    "    first_time = min(times)\n",
    "    last_time = max(times)\n",
    "    travel_time = last_time - first_time\n",
    "    travel_time_in_minutes = round(travel_time.seconds / 60.0)\n",
    "\n",
    "    return (travel_time_in_minutes)\n",
    "\n"
   ]
  },
  {
   "cell_type": "code",
   "execution_count": 35,
   "metadata": {},
   "outputs": [
    {
     "data": {
      "text/plain": [
       "57"
      ]
     },
     "execution_count": 35,
     "metadata": {},
     "output_type": "execute_result"
    }
   ],
   "source": [
    "compute_travel_time_from_gpx_file(\"./192_B_AP_2017_07_19_03_44_08.gpx\")"
   ]
  },
  {
   "cell_type": "code",
   "execution_count": 37,
   "metadata": {},
   "outputs": [
    {
     "data": {
      "text/plain": [
       "61"
      ]
     },
     "execution_count": 37,
     "metadata": {},
     "output_type": "execute_result"
    }
   ],
   "source": [
    "compute_travel_time_from_gpx_file(\"./523_B_JQ_2012_01_01_04_35_23.gpx\")"
   ]
  }
 ],
 "metadata": {
  "kernelspec": {
   "display_name": "Python 3",
   "language": "python",
   "name": "python3"
  },
  "language_info": {
   "codemirror_mode": {
    "name": "ipython",
    "version": 3
   },
   "file_extension": ".py",
   "mimetype": "text/x-python",
   "name": "python",
   "nbconvert_exporter": "python",
   "pygments_lexer": "ipython3",
   "version": "3.5.2"
  }
 },
 "nbformat": 4,
 "nbformat_minor": 2
}
